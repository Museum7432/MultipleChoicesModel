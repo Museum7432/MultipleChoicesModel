{
 "cells": [
  {
   "cell_type": "code",
   "execution_count": 12,
   "metadata": {},
   "outputs": [],
   "source": [
    "import numpy as np\n",
    "from random import randint"
   ]
  },
  {
   "cell_type": "code",
   "execution_count": 70,
   "metadata": {},
   "outputs": [],
   "source": [
    "def print_re(data, res, idx):\n",
    "    print(idx)\n",
    "    print(data[idx][\"question\"])\n",
    "    print(data[idx][\"choice_list\"][res[idx]])\n",
    "    print(data[idx][\"choice_list\"])"
   ]
  },
  {
   "cell_type": "code",
   "execution_count": 69,
   "metadata": {},
   "outputs": [],
   "source": [
    "data = list(np.load(\"../dataset/WP_eval_data_for_practice.npy\",allow_pickle=True))\n",
    "res = np.loadtxt(\"../eval/WP/1350.txt\", dtype=int).tolist()"
   ]
  },
  {
   "cell_type": "code",
   "execution_count": null,
   "metadata": {},
   "outputs": [],
   "source": [
    "# riddles.com"
   ]
  },
  {
   "cell_type": "code",
   "execution_count": 130,
   "metadata": {},
   "outputs": [
    {
     "name": "stdout",
     "output_type": "stream",
     "text": [
      "1.0\n",
      "0.75\n",
      "0.5625\n",
      "0.421875\n",
      "0.31640625\n",
      "0.2373046875\n",
      "0.177978515625\n",
      "0.13348388671875\n",
      "0.1001129150390625\n",
      "0.07508468627929688\n",
      "0.056313514709472656\n",
      "0.04223513603210449\n",
      "0.03167635202407837\n",
      "0.023757264018058777\n",
      "0.017817948013544083\n"
     ]
    }
   ],
   "source": [
    "for i in range(15):\n",
    "    print(0.75**i)"
   ]
  },
  {
   "cell_type": "code",
   "execution_count": 124,
   "metadata": {},
   "outputs": [
    {
     "name": "stdout",
     "output_type": "stream",
     "text": [
      "106\n",
      "What is at the end of a cow and in front of a woman?\n",
      "The letter W.\n",
      "['The letter O.', 'The letter N.', 'The letter W.', 'None of above.']\n"
     ]
    }
   ],
   "source": [
    "idx = randint(0, len(data))\n",
    "print_re(data, res,idx)"
   ]
  },
  {
   "cell_type": "code",
   "execution_count": 112,
   "metadata": {},
   "outputs": [
    {
     "name": "stdout",
     "output_type": "stream",
     "text": [
      "41\n",
      "What mathematical symbol can we use to create a number greater than 2 but less than 3 between the numbers 3 and 2?\n",
      "A square root.\n",
      "['A square root.', 'A division sign.', 'A minus sign.', 'None of above.']\n",
      "40\n",
      "What mathematical symbol can we use to create a number greater than 2 but less than 3 between the numbers 2 and 3?\n",
      "A decimal point.\n",
      "['A division sign.', 'A decimal point.', 'A plus sign.', 'None of above.']\n",
      "29\n",
      "What does eight plus three equal if ten plus three equals one?\n",
      "Eleven.\n",
      "['Eleven.', 'Two.', 'Five.', 'None of above.']\n"
     ]
    }
   ],
   "source": [
    "wrong_answers = [41, 40, 29]\n",
    "\n",
    "for i in wrong_answers:\n",
    "    print_re(data, res, i)"
   ]
  },
  {
   "cell_type": "code",
   "execution_count": null,
   "metadata": {},
   "outputs": [],
   "source": [
    "data = list(np.load(\"../dataset/SP_eval_data_for_practice.npy\",allow_pickle=True))\n",
    "res = np.loadtxt(\"../eval/446.txt\", dtype=int).tolist()"
   ]
  }
 ],
 "metadata": {
  "kernelspec": {
   "display_name": "semeval",
   "language": "python",
   "name": "python3"
  },
  "language_info": {
   "codemirror_mode": {
    "name": "ipython",
    "version": 3
   },
   "file_extension": ".py",
   "mimetype": "text/x-python",
   "name": "python",
   "nbconvert_exporter": "python",
   "pygments_lexer": "ipython3",
   "version": "3.11.6"
  }
 },
 "nbformat": 4,
 "nbformat_minor": 2
}
