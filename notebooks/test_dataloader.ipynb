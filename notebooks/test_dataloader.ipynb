{
 "cells": [
  {
   "cell_type": "code",
   "execution_count": 1,
   "metadata": {},
   "outputs": [
    {
     "name": "stdout",
     "output_type": "stream",
     "text": [
      "/home/arch/Projects/college/semeval_brainteaser\n"
     ]
    }
   ],
   "source": [
    "%cd .."
   ]
  },
  {
   "cell_type": "code",
   "execution_count": 2,
   "metadata": {},
   "outputs": [
    {
     "name": "stderr",
     "output_type": "stream",
     "text": [
      "/home/arch/.pyenv/versions/semeval/lib/python3.11/site-packages/transformers/utils/hub.py:123: FutureWarning: Using `TRANSFORMERS_CACHE` is deprecated and will be removed in v5 of Transformers. Use `HF_HOME` instead.\n",
      "  warnings.warn(\n"
     ]
    }
   ],
   "source": [
    "from src.data import SemevalDataset, collate_fn_factory\n",
    "import torch\n",
    "from torch.utils.data import DataLoader\n",
    "from argparse import ArgumentParser, Namespace\n",
    "\n"
   ]
  },
  {
   "cell_type": "code",
   "execution_count": 3,
   "metadata": {},
   "outputs": [],
   "source": [
    "args = Namespace(a=1)"
   ]
  },
  {
   "cell_type": "code",
   "execution_count": 27,
   "metadata": {},
   "outputs": [],
   "source": [
    "args = Namespace(\n",
    "    encoder_name=\"google/flan-t5-large\",\n",
    "    promt_style=False,\n",
    "    data_path=\"./dataset/SP-train.npy\"\n",
    ")\n",
    "data = SemevalDataset(args)"
   ]
  },
  {
   "cell_type": "code",
   "execution_count": 24,
   "metadata": {},
   "outputs": [],
   "source": [
    "train_dataloader = DataLoader(data, batch_size=2, collate_fn=collate_fn_factory(data.tokenizer.pad_token_id), shuffle=True, pin_memory=True)"
   ]
  },
  {
   "cell_type": "code",
   "execution_count": 25,
   "metadata": {},
   "outputs": [],
   "source": [
    "train_features = next(iter(train_dataloader))"
   ]
  },
  {
   "cell_type": "code",
   "execution_count": 15,
   "metadata": {},
   "outputs": [
    {
     "data": {
      "text/plain": [
       "{'input_ids': tensor([[  148,    33,     3,     9,  2601,  2535,     5,  8667,     5,  3931,\n",
       "              6,    46, 12766,  2335,     6,    11, 22405,     6,     3,     9,\n",
       "            422,   861,     6,    33,    30,     8,  2601,   116,    25,   456,\n",
       "             39,  2027,     5,    37, 12766,  2335,  7189,     7,    44,     8,\n",
       "            166,  1190,     6,    11,  4857,     6,     3,     9,  1085,  6075,\n",
       "              6,  2058,     7,     5,   486,     8,   826,  1190,     6,   386,\n",
       "            887,  6771,  2309,  5621,  1476,     8,  2601,   590,    28,  4496,\n",
       "             11,   112,  4806,   446,  1092,     5,   621, 17310,   676,    13,\n",
       "           7494,     6,     8,  2601, 10796,     6, 22405,  2347,   326,     6,\n",
       "             11,     3,     9,  4024,    11,   112,  2512,  1476,     5,    71,\n",
       "           2335,   258,  8126,     8,  2601,   298,  6771,     3,     9, 17276,\n",
       "             26,  5963,     5,  2645,    19,     8,  2601,  2535,    58,     3,\n",
       "              1, 22405,     5,     1,   446,   173,     5,     1, 14794,    13,\n",
       "            756,     5,     1,  8667,     5,  3931,     5,     1],\n",
       "         [  571,    47,    34,   487,    21,     3,     9,  9321,  7531,    12,\n",
       "           3658,    16,  1511,    30,  1701,     6,  1049,    21,   192,   477,\n",
       "              6,    11,  1175,    30,  2875,    58,     1,   818,    16,  1511,\n",
       "              6,     3,    88, 13628,    16,  1953,    21,   192,   477,     5,\n",
       "              1,   978,  4952,    19,  2650,  2875,     5,     1, 14794,    13,\n",
       "            756,     5,     1,  1701,    11,  1856,    33,  6799,     5,     1,\n",
       "              0,     0,     0,     0,     0,     0,     0,     0,     0,     0,\n",
       "              0,     0,     0,     0,     0,     0,     0,     0,     0,     0,\n",
       "              0,     0,     0,     0,     0,     0,     0,     0,     0,     0,\n",
       "              0,     0,     0,     0,     0,     0,     0,     0,     0,     0,\n",
       "              0,     0,     0,     0,     0,     0,     0,     0,     0,     0,\n",
       "              0,     0,     0,     0,     0,     0,     0,     0,     0,     0,\n",
       "              0,     0,     0,     0,     0,     0,     0,     0,     0,     0,\n",
       "              0,     0,     0,     0,     0,     0,     0,     0]]),\n",
       " 'attention_mask': tensor([[1, 1, 1, 1, 1, 1, 1, 1, 1, 1, 1, 1, 1, 1, 1, 1, 1, 1, 1, 1, 1, 1, 1, 1,\n",
       "          1, 1, 1, 1, 1, 1, 1, 1, 1, 1, 1, 1, 1, 1, 1, 1, 1, 1, 1, 1, 1, 1, 1, 1,\n",
       "          1, 1, 1, 1, 1, 1, 1, 1, 1, 1, 1, 1, 1, 1, 1, 1, 1, 1, 1, 1, 1, 1, 1, 1,\n",
       "          1, 1, 1, 1, 1, 1, 1, 1, 1, 1, 1, 1, 1, 1, 1, 1, 1, 1, 1, 1, 1, 1, 1, 1,\n",
       "          1, 1, 1, 1, 1, 1, 1, 1, 1, 1, 1, 1, 1, 1, 1, 1, 1, 1, 1, 1, 1, 1, 1, 1,\n",
       "          1, 1, 1, 1, 1, 1, 1, 1, 1, 1, 1, 1, 1, 1, 1, 1, 1, 1],\n",
       "         [1, 1, 1, 1, 1, 1, 1, 1, 1, 1, 1, 1, 1, 1, 1, 1, 1, 1, 1, 1, 1, 1, 1, 1,\n",
       "          1, 1, 1, 1, 1, 1, 1, 1, 1, 1, 1, 1, 1, 1, 1, 1, 1, 1, 1, 1, 1, 1, 1, 1,\n",
       "          1, 1, 1, 1, 1, 1, 1, 1, 1, 1, 1, 1, 0, 0, 0, 0, 0, 0, 0, 0, 0, 0, 0, 0,\n",
       "          0, 0, 0, 0, 0, 0, 0, 0, 0, 0, 0, 0, 0, 0, 0, 0, 0, 0, 0, 0, 0, 0, 0, 0,\n",
       "          0, 0, 0, 0, 0, 0, 0, 0, 0, 0, 0, 0, 0, 0, 0, 0, 0, 0, 0, 0, 0, 0, 0, 0,\n",
       "          0, 0, 0, 0, 0, 0, 0, 0, 0, 0, 0, 0, 0, 0, 0, 0, 0, 0]]),\n",
       " 'indicators_token_offset': tensor([[120, 123, 127, 132],\n",
       "         [ 26,  40,  47,  52]]),\n",
       " 'indicators_token_offset_mask': tensor([[1, 1, 1, 1],\n",
       "         [1, 1, 1, 1]]),\n",
       " 'label': tensor([2, 1]),\n",
       " 'last_token_indice': tensor([137,  59])}"
      ]
     },
     "execution_count": 15,
     "metadata": {},
     "output_type": "execute_result"
    }
   ],
   "source": [
    "train_features"
   ]
  },
  {
   "cell_type": "code",
   "execution_count": 16,
   "metadata": {},
   "outputs": [],
   "source": [
    "for batch in train_dataloader:\n",
    "    assert torch.index_select(train_features[\"input_ids\"][0], 0, train_features[\"indicators_token_offset\"][0]).tolist() == [1,1,1,1]\n"
   ]
  },
  {
   "cell_type": "code",
   "execution_count": 26,
   "metadata": {},
   "outputs": [
    {
     "data": {
      "text/plain": [
       "tensor([188, 279, 254, 308])"
      ]
     },
     "execution_count": 26,
     "metadata": {},
     "output_type": "execute_result"
    }
   ],
   "source": [
    "torch.index_select(train_features[\"input_ids\"][0], 0, train_features[\"indicators_token_offset\"][0])"
   ]
  }
 ],
 "metadata": {
  "kernelspec": {
   "display_name": "semeval",
   "language": "python",
   "name": "python3"
  },
  "language_info": {
   "codemirror_mode": {
    "name": "ipython",
    "version": 3
   },
   "file_extension": ".py",
   "mimetype": "text/x-python",
   "name": "python",
   "nbconvert_exporter": "python",
   "pygments_lexer": "ipython3",
   "version": "3.11.6"
  }
 },
 "nbformat": 4,
 "nbformat_minor": 2
}
