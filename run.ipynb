{
 "cells": [
  {
   "cell_type": "code",
   "execution_count": null,
   "metadata": {
    "vscode": {
     "languageId": "shellscript"
    }
   },
   "outputs": [],
   "source": [
    "git clone https://github.com/Museum7432/semeval_brainteaser_MultipleChoicesModel.git semeval\n",
    "cd semeval\n",
    "\n",
    "mkdir dataset\n",
    "\n",
    "pip install gdown\n",
    "\n",
    "cd dataset\n",
    "gdown 1VI0EkCUhbyRc2P_i3e0uEUZVr1kxV_jl\n",
    "gdown 1_lHJVkWwuqGWkwalinoatpOLL6sBw6um\n",
    "gdown 1IjkKDbhS0dQ7tFfBmIHeS8dC4Ztm7Jdu\n",
    "gdown 1XJ4hPXaqnWETkffB_trad25F9EtuyMW6\n",
    "gdown 17h4Us9b87G7jCkYfzUPVB9ZeZTXJVqsG\n",
    "cd ..\n",
    "\n",
    "pip install -r requirements.txt"
   ]
  },
  {
   "cell_type": "markdown",
   "metadata": {},
   "source": [
    "google/flan-t5-large"
   ]
  },
  {
   "cell_type": "code",
   "execution_count": null,
   "metadata": {
    "vscode": {
     "languageId": "shellscript"
    }
   },
   "outputs": [],
   "source": [
    "# baseline \n",
    "python src/train.py \\\n",
    "    --float32_matmul_precision \"medium\" \\\n",
    "    --exp_name \"semeval_large\" \\\n",
    "    --max_epochs 20 \\\n",
    "    --encoder_name \"google/flan-t5-large\" \\\n",
    "    --lr 1e-5 \\\n",
    "    --use_last_hidden_state \\\n",
    "    --promt_style \\\n",
    "    --shuffle_choices \\\n",
    "    --train_data_path \"dataset/WP-train.npy\" \\\n",
    "    --eval_data_path \"dataset/WP_new_test.npy\" \\\n",
    "    --train_batch_size 4 \\\n",
    "    --valid_batch_size 4 \\\n",
    "    --num_workers 8 \\\n",
    "    --reduce_choices \\\n",
    "    --wandb\n",
    "    # --loss_threshold 0.07 \\"
   ]
  },
  {
   "cell_type": "markdown",
   "metadata": {},
   "source": [
    "google/flan-t5-xl"
   ]
  },
  {
   "cell_type": "code",
   "execution_count": null,
   "metadata": {
    "vscode": {
     "languageId": "shellscript"
    }
   },
   "outputs": [],
   "source": [
    "# baseline \n",
    "python src/train.py \\\n",
    "    --float32_matmul_precision \"medium\" \\\n",
    "    --exp_name \"semeval_xl\" \\\n",
    "    --max_epochs 20 \\\n",
    "    --encoder_name \"google/flan-t5-xl\" \\\n",
    "    --lr 1e-5 \\\n",
    "    --use_last_hidden_state \\\n",
    "    --promt_style \\\n",
    "    --shuffle_choices \\\n",
    "    --train_data_path \"dataset/WP-train.npy\" \\\n",
    "    --eval_data_path \"dataset/WP_new_test.npy\" \\\n",
    "    --train_batch_size 4 \\\n",
    "    --valid_batch_size 4 \\\n",
    "    --num_workers 8 \\\n",
    "    --reduce_choices \\\n",
    "    --wandb\n",
    "    # --loss_threshold 0.07 \\"
   ]
  }
 ],
 "metadata": {
  "language_info": {
   "name": "python"
  }
 },
 "nbformat": 4,
 "nbformat_minor": 2
}
