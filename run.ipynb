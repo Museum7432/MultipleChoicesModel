{
 "cells": [
  {
   "cell_type": "code",
   "execution_count": null,
   "metadata": {},
   "outputs": [],
   "source": [
    "!git clone https://github.com/Museum7432/semeval_brainteaser_MultipleChoicesModel.git semeval\n",
    "%cd semeval"
   ]
  },
  {
   "cell_type": "code",
   "execution_count": null,
   "metadata": {},
   "outputs": [],
   "source": [
    "!pip install gdown\n",
    "!pip install -r requirements.txt\n",
    "\n",
    "\n",
    "!gdown 1VI0EkCUhbyRc2P_i3e0uEUZVr1kxV_jl -O ./dataset/WP-train.npy\n",
    "!gdown 1wCEPQRWB8TSEHKLrAEO1BhiQs6QbqFga -O ./dataset/SP-train.npy\n",
    "\n",
    "!gdown 1nnbhVy_xS4abvf7Ka4ZGCo7TjFSN0R7L -O ./dataset/WP_eval_data_for_practice.npy\n",
    "!gdown 1K1hsCYuOIfBg0rQgoF1QLK12mXPTC3ow -O ./dataset/SP_eval_data_for_practice.npy\n",
    "\n",
    "!mkdir dataset\n",
    "!mv WP-train.npy ./dataset/WP-train.npy\n",
    "!mv SP-train.npy ./dataset/SP-train.npy\n",
    "!mv WP_eval_data_for_practice.npy ./dataset/WP_eval_data_for_practice.npy\n",
    "!mv SP_eval_data_for_practice.npy ./dataset/SP_eval_data_for_practice.npy\n"
   ]
  },
  {
   "cell_type": "code",
   "execution_count": null,
   "metadata": {},
   "outputs": [],
   "source": [
    "# wandb.login()"
   ]
  },
  {
   "cell_type": "markdown",
   "metadata": {},
   "source": [
    "flan-t5-large"
   ]
  },
  {
   "cell_type": "code",
   "execution_count": null,
   "metadata": {},
   "outputs": [],
   "source": [
    "!python src/train.py \\\n",
    "    --accelerator gpu \\\n",
    "    --devices 1 \\\n",
    "    --accumulate_grad_batches 4 \\\n",
    "    --max_epochs 25 \\\n",
    "    --encoder_name \"google/flan-t5-large\" \\\n",
    "    --lr 1e-5 \\\n",
    "    --use_last_hidden_state \\\n",
    "    --promt_style \\\n",
    "    --shuffle_choices \\\n",
    "    --train_data_path \"dataset/WP-train.npy\" \\ \n",
    "    --eval_data_path \"dataset/WP_eval_data_for_practice.npy\" \\\n",
    "    --train_batch_size 2 \\\n",
    "    --valid_batch_size 4 \\\n",
    "    --reduce_choices \\\n",
    "    # --precision 16 \\\n",
    "    # --wandb \\\n",
    "    # --loss_threshold 0.05 \\\n",
    "    # --no_hidden_layer"
   ]
  },
  {
   "cell_type": "markdown",
   "metadata": {},
   "source": [
    "flan-t5-large with 1 layer choices_classifier "
   ]
  },
  {
   "cell_type": "code",
   "execution_count": null,
   "metadata": {},
   "outputs": [],
   "source": [
    "!python src/train.py \\\n",
    "    --accelerator gpu \\\n",
    "    --devices 1 \\\n",
    "    --accumulate_grad_batches 4 \\\n",
    "    --max_epochs 25 \\\n",
    "    --encoder_name \"google/flan-t5-large\" \\\n",
    "    --lr 1e-5 \\\n",
    "    --use_last_hidden_state \\\n",
    "    --promt_style \\\n",
    "    --shuffle_choices \\\n",
    "    --train_data_path \"dataset/WP-train.npy\" \\ \n",
    "    --eval_data_path \"dataset/WP_eval_data_for_practice.npy\" \\\n",
    "    --train_batch_size 2 \\\n",
    "    --valid_batch_size 4 \\\n",
    "    --no_hidden_layer \\\n",
    "    --reduce_choices \\\n",
    "    # --precision 16 \\\n",
    "    # --wandb \\\n",
    "    # --loss_threshold 0.05 \\"
   ]
  },
  {
   "cell_type": "markdown",
   "metadata": {},
   "source": [
    "ignore losses that is smaller than 0.05"
   ]
  },
  {
   "cell_type": "code",
   "execution_count": null,
   "metadata": {},
   "outputs": [],
   "source": [
    "!python src/train.py \\\n",
    "    --accelerator gpu \\\n",
    "    --devices 1 \\\n",
    "    --accumulate_grad_batches 4 \\\n",
    "    --max_epochs 25 \\\n",
    "    --encoder_name \"google/flan-t5-large\" \\\n",
    "    --lr 1e-5 \\\n",
    "    --use_last_hidden_state \\\n",
    "    --promt_style \\\n",
    "    --shuffle_choices \\\n",
    "    --train_data_path \"dataset/WP-train.npy\" \\ \n",
    "    --eval_data_path \"dataset/WP_eval_data_for_practice.npy\" \\\n",
    "    --train_batch_size 2 \\\n",
    "    --valid_batch_size 4 \\\n",
    "    --loss_threshold 0.05 \\\n",
    "    --reduce_choices \\\n",
    "    # --precision 16 \\\n",
    "    # --wandb \\\n",
    "    # --no_hidden_layer"
   ]
  }
 ],
 "metadata": {
  "language_info": {
   "name": "python"
  }
 },
 "nbformat": 4,
 "nbformat_minor": 2
}
